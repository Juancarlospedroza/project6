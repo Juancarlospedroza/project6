{
 "cells": [
  {
   "cell_type": "code",
   "execution_count": null,
   "metadata": {
    "id": "xmFEPbNbi-Fa"
   },
   "outputs": [],
   "source": [
    "print (\"Hello world\")\n"
   ]
  },
  {
   "cell_type": "markdown",
   "metadata": {
    "id": "QwPZV2YQjRS3"
   },
   "source": []
  }
 ],
 "metadata": {
  "colab": {
   "provenance": []
  },
  "kernelspec": {
   "display_name": "Python 3",
   "name": "python3"
  },
  "language_info": {
   "name": "python"
  }
 },
 "nbformat": 4,
 "nbformat_minor": 0
}
